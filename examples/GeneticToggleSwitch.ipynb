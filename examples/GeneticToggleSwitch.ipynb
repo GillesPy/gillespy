{
 "cells": [
  {
   "cell_type": "code",
   "execution_count": 6,
   "metadata": {
    "collapsed": false
   },
   "outputs": [],
   "source": [
    "import os\n",
    "import numpy\n",
    "import matplotlib.pyplot as plt"
   ]
  },
  {
   "cell_type": "code",
   "execution_count": 7,
   "metadata": {
    "collapsed": false
   },
   "outputs": [],
   "source": [
    "import gillespy\n",
    "class ToggleSwitch(gillespy.Model):\n",
    "    \"\"\" Gardner et al. Nature (1999)\n",
    "    'Construction of a genetic toggle switch in Escherichia coli'\n",
    "    \"\"\"\n",
    "    def __init__(self, parameter_values=None):\n",
    "        # Initialize the model.\n",
    "        gillespy.Model.__init__(self, name=\"toggle_switch\")\n",
    "        # Parameters\n",
    "        alpha1 = gillespy.Parameter(name='alpha1', expression=1)\n",
    "        alpha2 = gillespy.Parameter(name='alpha2', expression=1)\n",
    "        beta = gillespy.Parameter(name='beta', expression=\"2.0\")\n",
    "        gamma = gillespy.Parameter(name='gamma', expression=\"2.0\")\n",
    "        mu = gillespy.Parameter(name='mu', expression=1.0)\n",
    "        self.add_parameter([alpha1, alpha2, beta, gamma, mu])\n",
    "\n",
    "        # Species\n",
    "        U = gillespy.Species(name='U', initial_value=10)\n",
    "        V = gillespy.Species(name='V', initial_value=10)\n",
    "        self.add_species([U, V])\n",
    "\n",
    "        # Reactions\n",
    "        cu = gillespy.Reaction(name=\"r1\",reactants={}, products={U:1},\n",
    "                propensity_function=\"alpha1/(1+pow(V,beta))\")\n",
    "        cv = gillespy.Reaction(name=\"r2\",reactants={}, products={V:1},\n",
    "                propensity_function=\"alpha2/(1+pow(U,gamma))\")\n",
    "        du = gillespy.Reaction(name=\"r3\",reactants={U:1}, products={},\n",
    "                rate=mu)\n",
    "        dv = gillespy.Reaction(name=\"r4\",reactants={V:1}, products={},\n",
    "                rate=mu)\n",
    "        self.add_reaction([cu,cv,du,dv])\n",
    "        self.timespan(numpy.linspace(0,100,101))"
   ]
  },
  {
   "cell_type": "code",
   "execution_count": 8,
   "metadata": {
    "collapsed": false
   },
   "outputs": [],
   "source": [
    "model = ToggleSwitch()"
   ]
  },
  {
   "cell_type": "code",
   "execution_count": 9,
   "metadata": {
    "collapsed": false
   },
   "outputs": [],
   "source": [
    "results = model.run(show_labels=False)"
   ]
  },
  {
   "cell_type": "code",
   "execution_count": 6,
   "metadata": {
    "collapsed": false
   },
   "outputs": [],
   "source": [
    "# If you have the deterministic solver\n",
    "dresults = model.run(solver=gillespy.StochKitODESolver)"
   ]
  },
  {
   "cell_type": "code",
   "execution_count": 10,
   "metadata": {
    "collapsed": false
   },
   "outputs": [
    {
     "data": {
      "text/plain": [
       "<matplotlib.legend.Legend at 0x7fbba1a88b10>"
      ]
     },
     "execution_count": 10,
     "metadata": {},
     "output_type": "execute_result"
    }
   ],
   "source": [
    "plt.plot(results[0][:,0],results[0][:,1],'-r', label='U')\n",
    "plt.plot(results[0][:,0],results[0][:,2],'-b', label='V')\n",
    "plt.plot([0],[11])\n",
    "plt.legend(loc='best')"
   ]
  },
  {
   "cell_type": "code",
   "execution_count": 11,
   "metadata": {
    "collapsed": false
   },
   "outputs": [
    {
     "data": {
      "text/plain": [
       "<matplotlib.legend.Legend at 0x10697f650>"
      ]
     },
     "execution_count": 11,
     "metadata": {},
     "output_type": "execute_result"
    },
    {
     "data": {
      "image/png": "[encoded data removed]",
      "text/plain": [
       "<matplotlib.figure.Figure at 0x105a93050>"
      ]
     },
     "metadata": {},
     "output_type": "display_data"
    }
   ],
   "source": [
    "plt.plot(dresults[0][:,0],dresults[0][:,1],'-r', label='U')\n",
    "plt.plot(dresults[0][:,0],dresults[0][:,2],'-b', label='V')\n",
    "plt.plot([0],[11])\n",
    "plt.legend(loc='best')"
   ]
  },
  {
   "cell_type": "code",
   "execution_count": 11,
   "metadata": {
    "collapsed": false
   },
   "outputs": [],
   "source": []
  },
  {
   "cell_type": "code",
   "execution_count": null,
   "metadata": {
    "collapsed": true
   },
   "outputs": [],
   "source": []
  }
 ],
 "metadata": {
  "kernelspec": {
   "display_name": "Python 2",
   "language": "python",
   "name": "python2"
  },
  "language_info": {
   "codemirror_mode": {
    "name": "ipython",
    "version": 2
   },
   "file_extension": ".py",
   "mimetype": "text/x-python",
   "name": "python",
   "nbconvert_exporter": "python",
   "pygments_lexer": "ipython2",
   "version": "2.7.6"
  }
 },
 "nbformat": 4,
 "nbformat_minor": 0
}
