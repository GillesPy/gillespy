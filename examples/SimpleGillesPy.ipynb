{
 "cells": [
  {
   "cell_type": "code",
   "execution_count": 9,
   "metadata": {
    "collapsed": false
   },
   "outputs": [],
   "source": [
    "import sys\n",
    "import numpy as np\n",
    "import gillespy\n",
    "import matplotlib.pyplot as plt"
   ]
  },
  {
   "cell_type": "code",
   "execution_count": 10,
   "metadata": {
    "collapsed": false
   },
   "outputs": [],
   "source": [
    "class Simple1(gillespy.Model):\n",
    "    \"\"\"\n",
    "    This is a simple example for mass-action degradation of species S.\n",
    "    \"\"\"\n",
    "\n",
    "    def __init__(self, parameter_values=None):\n",
    "\n",
    "        # Initialize the model.\n",
    "        gillespy.Model.__init__(self, name=\"simple1\")\n",
    "\n",
    "        # Parameters\n",
    "        k1 = gillespy.Parameter(name='k1', expression=0.3)\n",
    "        self.add_parameter(k1)\n",
    "\n",
    "        # Species\n",
    "        S = gillespy.Species(name='S', initial_value=100)\n",
    "        self.add_species(S)\n",
    "\n",
    "        # Reactions\n",
    "        rxn1 = gillespy.Reaction(\n",
    "                name = 'S degradation',\n",
    "                reactants = {S:1},\n",
    "                products = {},\n",
    "                rate = k1 )\n",
    "        self.add_reaction(rxn1)\n",
    "        self.timespan(numpy.linspace(0,20,101))\n"
   ]
  },
  {
   "cell_type": "code",
   "execution_count": 11,
   "metadata": {
    "collapsed": false
   },
   "outputs": [],
   "source": [
    "# Here, we create the model object.\n",
    "# We could pass new parameter values to this model here if we wished\n",
    "simple_model = Simple1()\n",
    "\n",
    "# The model object is simulated with the StochKit solver, and 25 \n",
    "# trajectories are returned.\n",
    "num_trajectories = 250\n",
    "simple_trajectories = simple_model.run(number_of_trajectories = num_trajectories, show_labels=False)\n"
   ]
  },
  {
   "cell_type": "code",
   "execution_count": 12,
   "metadata": {
    "collapsed": false
   },
   "outputs": [],
   "source": [
    "# PLOTTING\n",
    "\n",
    "\n",
    "# here, we will plot all trajectories with the mean overlaid\n",
    "from matplotlib import gridspec\n",
    "\n",
    "gs = gridspec.GridSpec(1,1)\n",
    "\n",
    "\n",
    "ax0 = plt.subplot(gs[0,0])\n",
    "\n",
    "# extract time values\n",
    "time = np.array(simple_trajectories[0][:,0])\n",
    "\n",
    "# extract just the trajectories for S into a numpy array\n",
    "S_trajectories = np.array([simple_trajectories[i][:,1] for i in xrange(num_trajectories)]).T\n",
    "\n",
    "#plot individual trajectories\n",
    "ax0.plot(time, S_trajectories, 'gray', alpha = 0.1)\n",
    "\n",
    "#plot mean\n",
    "ax0.plot(time, S_trajectories.mean(1), 'k--', label = \"Mean S\")\n",
    "\n",
    "#plot min-max\n",
    "ax0.plot(time,S_trajectories.min(1), 'b--', label = \"Minimum S\")\n",
    "ax0.plot(time,S_trajectories.max(1), 'r--', label = \"Maximum S\")\n",
    "\n",
    "ax0.legend()\n",
    "ax0.set_xlabel('Time')\n",
    "ax0.set_ylabel('Species S Count')\n",
    "\n",
    "plt.tight_layout()\n",
    "plt.show()"
   ]
  },
  {
   "cell_type": "code",
   "execution_count": null,
   "metadata": {
    "collapsed": false
   },
   "outputs": [],
   "source": []
  }
 ],
 "metadata": {
  "kernelspec": {
   "display_name": "Python 2",
   "language": "python",
   "name": "python2"
  },
  "language_info": {
   "codemirror_mode": {
    "name": "ipython",
    "version": 2
   },
   "file_extension": ".py",
   "mimetype": "text/x-python",
   "name": "python",
   "nbconvert_exporter": "python",
   "pygments_lexer": "ipython2",
   "version": "2.7.6"
  }
 },
 "nbformat": 4,
 "nbformat_minor": 0
}
